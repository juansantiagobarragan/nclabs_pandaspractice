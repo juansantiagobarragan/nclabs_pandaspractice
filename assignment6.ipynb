{
 "cells": [
  {
   "cell_type": "markdown",
   "id": "12a3181c-7795-41b5-9948-d7ef3dd96718",
   "metadata": {},
   "source": [
    "# Assignment 6: Pandas Practice\n",
    "\n",
    "### Instructions\n",
    "\n",
    "Complete the tasks outlined below. In some cases the code may be partially written, and you need to finish the code. In other cases, you will need to write the entire line of code. Or, you may need to explain in plain English what a code chunk is doing.\n",
    "\n",
    "When you are finished, save the notebook and push the repo to your fork of the repo, and copy/paste the link to your repo into the assignment 6 google form.\n",
    "\n",
    "Feel free to create more cells as needed in order to explore the data and fully answer the questions."
   ]
  },
  {
   "cell_type": "markdown",
   "id": "7720d195-0f3d-4385-be70-7d633e5691fb",
   "metadata": {},
   "source": [
    "## Import pandas\n",
    "\n",
    "What is the standard import statement for pandas? Go ahead and import the pandas library"
   ]
  },
  {
   "cell_type": "code",
   "execution_count": 3,
   "id": "3cf953f9-ea4b-494b-8028-d2fa4c464bf5",
   "metadata": {},
   "outputs": [],
   "source": [
    "# import pandas as pd"
   ]
  },
  {
   "cell_type": "markdown",
   "id": "cfe95c8d-d515-4284-a244-e39775cb241b",
   "metadata": {},
   "source": [
    "## Reading in data\n",
    "\n",
    "Read the data in `gapminder_gdp_americas.csv` (in the `data` directory) into a variable called `americas` and display its summary statistics. Remember to specify the `country` column as the index."
   ]
  },
  {
   "cell_type": "code",
   "execution_count": 17,
   "id": "4444a245-faa7-4c7c-b700-a0eac416a024",
   "metadata": {},
   "outputs": [],
   "source": [
    "americas = pd.read_csv('data/gapminder_gdp_americas.csv', index_col = 'country')"
   ]
  },
  {
   "cell_type": "code",
   "execution_count": null,
   "id": "582efa69-f54a-488c-b94b-74f95d1d13db",
   "metadata": {},
   "outputs": [],
   "source": [
    "americas."
   ]
  },
  {
   "cell_type": "markdown",
   "id": "0b74d09e-e95e-4f00-96c6-173b7e26bb4e",
   "metadata": {},
   "source": [
    "## Inspecting data\n",
    "\n",
    "After reading the data for the Americas, use help(americas.head) and help(americas.tail) to find out what DataFrame.head and DataFrame.tail do.\n",
    "\n",
    "1. What method call will display the first three rows of this data?\n",
    "2. What method call will display the last three columns of this data? (Hint: you may need to change your view of the data.)"
   ]
  },
  {
   "cell_type": "code",
   "execution_count": 23,
   "id": "6e5fba2e-18bb-4562-94e0-f5d094530477",
   "metadata": {},
   "outputs": [
    {
     "data": {
      "text/html": [
       "<div>\n",
       "<style scoped>\n",
       "    .dataframe tbody tr th:only-of-type {\n",
       "        vertical-align: middle;\n",
       "    }\n",
       "\n",
       "    .dataframe tbody tr th {\n",
       "        vertical-align: top;\n",
       "    }\n",
       "\n",
       "    .dataframe thead th {\n",
       "        text-align: right;\n",
       "    }\n",
       "</style>\n",
       "<table border=\"1\" class=\"dataframe\">\n",
       "  <thead>\n",
       "    <tr style=\"text-align: right;\">\n",
       "      <th></th>\n",
       "      <th>continent</th>\n",
       "      <th>gdpPercap_1952</th>\n",
       "      <th>gdpPercap_1957</th>\n",
       "      <th>gdpPercap_1962</th>\n",
       "      <th>gdpPercap_1967</th>\n",
       "      <th>gdpPercap_1972</th>\n",
       "      <th>gdpPercap_1977</th>\n",
       "      <th>gdpPercap_1982</th>\n",
       "      <th>gdpPercap_1987</th>\n",
       "      <th>gdpPercap_1992</th>\n",
       "      <th>gdpPercap_1997</th>\n",
       "      <th>gdpPercap_2002</th>\n",
       "      <th>gdpPercap_2007</th>\n",
       "    </tr>\n",
       "    <tr>\n",
       "      <th>country</th>\n",
       "      <th></th>\n",
       "      <th></th>\n",
       "      <th></th>\n",
       "      <th></th>\n",
       "      <th></th>\n",
       "      <th></th>\n",
       "      <th></th>\n",
       "      <th></th>\n",
       "      <th></th>\n",
       "      <th></th>\n",
       "      <th></th>\n",
       "      <th></th>\n",
       "      <th></th>\n",
       "    </tr>\n",
       "  </thead>\n",
       "  <tbody>\n",
       "    <tr>\n",
       "      <th>Argentina</th>\n",
       "      <td>Americas</td>\n",
       "      <td>5911.315053</td>\n",
       "      <td>6856.856212</td>\n",
       "      <td>7133.166023</td>\n",
       "      <td>8052.953021</td>\n",
       "      <td>9443.038526</td>\n",
       "      <td>10079.026740</td>\n",
       "      <td>8997.897412</td>\n",
       "      <td>9139.671389</td>\n",
       "      <td>9308.418710</td>\n",
       "      <td>10967.281950</td>\n",
       "      <td>8797.640716</td>\n",
       "      <td>12779.379640</td>\n",
       "    </tr>\n",
       "    <tr>\n",
       "      <th>Bolivia</th>\n",
       "      <td>Americas</td>\n",
       "      <td>2677.326347</td>\n",
       "      <td>2127.686326</td>\n",
       "      <td>2180.972546</td>\n",
       "      <td>2586.886053</td>\n",
       "      <td>2980.331339</td>\n",
       "      <td>3548.097832</td>\n",
       "      <td>3156.510452</td>\n",
       "      <td>2753.691490</td>\n",
       "      <td>2961.699694</td>\n",
       "      <td>3326.143191</td>\n",
       "      <td>3413.262690</td>\n",
       "      <td>3822.137084</td>\n",
       "    </tr>\n",
       "    <tr>\n",
       "      <th>Brazil</th>\n",
       "      <td>Americas</td>\n",
       "      <td>2108.944355</td>\n",
       "      <td>2487.365989</td>\n",
       "      <td>3336.585802</td>\n",
       "      <td>3429.864357</td>\n",
       "      <td>4985.711467</td>\n",
       "      <td>6660.118654</td>\n",
       "      <td>7030.835878</td>\n",
       "      <td>7807.095818</td>\n",
       "      <td>6950.283021</td>\n",
       "      <td>7957.980824</td>\n",
       "      <td>8131.212843</td>\n",
       "      <td>9065.800825</td>\n",
       "    </tr>\n",
       "  </tbody>\n",
       "</table>\n",
       "</div>"
      ],
      "text/plain": [
       "          continent  gdpPercap_1952  gdpPercap_1957  gdpPercap_1962  \\\n",
       "country                                                               \n",
       "Argentina  Americas     5911.315053     6856.856212     7133.166023   \n",
       "Bolivia    Americas     2677.326347     2127.686326     2180.972546   \n",
       "Brazil     Americas     2108.944355     2487.365989     3336.585802   \n",
       "\n",
       "           gdpPercap_1967  gdpPercap_1972  gdpPercap_1977  gdpPercap_1982  \\\n",
       "country                                                                     \n",
       "Argentina     8052.953021     9443.038526    10079.026740     8997.897412   \n",
       "Bolivia       2586.886053     2980.331339     3548.097832     3156.510452   \n",
       "Brazil        3429.864357     4985.711467     6660.118654     7030.835878   \n",
       "\n",
       "           gdpPercap_1987  gdpPercap_1992  gdpPercap_1997  gdpPercap_2002  \\\n",
       "country                                                                     \n",
       "Argentina     9139.671389     9308.418710    10967.281950     8797.640716   \n",
       "Bolivia       2753.691490     2961.699694     3326.143191     3413.262690   \n",
       "Brazil        7807.095818     6950.283021     7957.980824     8131.212843   \n",
       "\n",
       "           gdpPercap_2007  \n",
       "country                    \n",
       "Argentina    12779.379640  \n",
       "Bolivia       3822.137084  \n",
       "Brazil        9065.800825  "
      ]
     },
     "execution_count": 23,
     "metadata": {},
     "output_type": "execute_result"
    }
   ],
   "source": [
    "americas.head(3)"
   ]
  },
  {
   "cell_type": "code",
   "execution_count": 25,
   "id": "fe061553-6edf-4280-9549-5ebbd9c3315a",
   "metadata": {},
   "outputs": [],
   "source": [
    "americas_flipped = americas.tail(3)"
   ]
  },
  {
   "cell_type": "code",
   "execution_count": 28,
   "id": "7909f5af-7f2a-497f-90f9-29dfe378f183",
   "metadata": {},
   "outputs": [
    {
     "data": {
      "text/html": [
       "<div>\n",
       "<style scoped>\n",
       "    .dataframe tbody tr th:only-of-type {\n",
       "        vertical-align: middle;\n",
       "    }\n",
       "\n",
       "    .dataframe tbody tr th {\n",
       "        vertical-align: top;\n",
       "    }\n",
       "\n",
       "    .dataframe thead th {\n",
       "        text-align: right;\n",
       "    }\n",
       "</style>\n",
       "<table border=\"1\" class=\"dataframe\">\n",
       "  <thead>\n",
       "    <tr style=\"text-align: right;\">\n",
       "      <th></th>\n",
       "      <th>continent</th>\n",
       "      <th>gdpPercap_1952</th>\n",
       "      <th>gdpPercap_1957</th>\n",
       "      <th>gdpPercap_1962</th>\n",
       "      <th>gdpPercap_1967</th>\n",
       "      <th>gdpPercap_1972</th>\n",
       "      <th>gdpPercap_1977</th>\n",
       "      <th>gdpPercap_1982</th>\n",
       "      <th>gdpPercap_1987</th>\n",
       "      <th>gdpPercap_1992</th>\n",
       "      <th>gdpPercap_1997</th>\n",
       "      <th>gdpPercap_2002</th>\n",
       "      <th>gdpPercap_2007</th>\n",
       "    </tr>\n",
       "    <tr>\n",
       "      <th>country</th>\n",
       "      <th></th>\n",
       "      <th></th>\n",
       "      <th></th>\n",
       "      <th></th>\n",
       "      <th></th>\n",
       "      <th></th>\n",
       "      <th></th>\n",
       "      <th></th>\n",
       "      <th></th>\n",
       "      <th></th>\n",
       "      <th></th>\n",
       "      <th></th>\n",
       "      <th></th>\n",
       "    </tr>\n",
       "  </thead>\n",
       "  <tbody>\n",
       "    <tr>\n",
       "      <th>United States</th>\n",
       "      <td>Americas</td>\n",
       "      <td>13990.482080</td>\n",
       "      <td>14847.127120</td>\n",
       "      <td>16173.145860</td>\n",
       "      <td>19530.365570</td>\n",
       "      <td>21806.035940</td>\n",
       "      <td>24072.632130</td>\n",
       "      <td>25009.559140</td>\n",
       "      <td>29884.350410</td>\n",
       "      <td>32003.932240</td>\n",
       "      <td>35767.433030</td>\n",
       "      <td>39097.099550</td>\n",
       "      <td>42951.65309</td>\n",
       "    </tr>\n",
       "    <tr>\n",
       "      <th>Uruguay</th>\n",
       "      <td>Americas</td>\n",
       "      <td>5716.766744</td>\n",
       "      <td>6150.772969</td>\n",
       "      <td>5603.357717</td>\n",
       "      <td>5444.619620</td>\n",
       "      <td>5703.408898</td>\n",
       "      <td>6504.339663</td>\n",
       "      <td>6920.223051</td>\n",
       "      <td>7452.398969</td>\n",
       "      <td>8137.004775</td>\n",
       "      <td>9230.240708</td>\n",
       "      <td>7727.002004</td>\n",
       "      <td>10611.46299</td>\n",
       "    </tr>\n",
       "    <tr>\n",
       "      <th>Venezuela</th>\n",
       "      <td>Americas</td>\n",
       "      <td>7689.799761</td>\n",
       "      <td>9802.466526</td>\n",
       "      <td>8422.974165</td>\n",
       "      <td>9541.474188</td>\n",
       "      <td>10505.259660</td>\n",
       "      <td>13143.950950</td>\n",
       "      <td>11152.410110</td>\n",
       "      <td>9883.584648</td>\n",
       "      <td>10733.926310</td>\n",
       "      <td>10165.495180</td>\n",
       "      <td>8605.047831</td>\n",
       "      <td>11415.80569</td>\n",
       "    </tr>\n",
       "  </tbody>\n",
       "</table>\n",
       "</div>"
      ],
      "text/plain": [
       "              continent  gdpPercap_1952  gdpPercap_1957  gdpPercap_1962  \\\n",
       "country                                                                   \n",
       "United States  Americas    13990.482080    14847.127120    16173.145860   \n",
       "Uruguay        Americas     5716.766744     6150.772969     5603.357717   \n",
       "Venezuela      Americas     7689.799761     9802.466526     8422.974165   \n",
       "\n",
       "               gdpPercap_1967  gdpPercap_1972  gdpPercap_1977  gdpPercap_1982  \\\n",
       "country                                                                         \n",
       "United States    19530.365570    21806.035940    24072.632130    25009.559140   \n",
       "Uruguay           5444.619620     5703.408898     6504.339663     6920.223051   \n",
       "Venezuela         9541.474188    10505.259660    13143.950950    11152.410110   \n",
       "\n",
       "               gdpPercap_1987  gdpPercap_1992  gdpPercap_1997  gdpPercap_2002  \\\n",
       "country                                                                         \n",
       "United States    29884.350410    32003.932240    35767.433030    39097.099550   \n",
       "Uruguay           7452.398969     8137.004775     9230.240708     7727.002004   \n",
       "Venezuela         9883.584648    10733.926310    10165.495180     8605.047831   \n",
       "\n",
       "               gdpPercap_2007  \n",
       "country                        \n",
       "United States     42951.65309  \n",
       "Uruguay           10611.46299  \n",
       "Venezuela         11415.80569  "
      ]
     },
     "execution_count": 28,
     "metadata": {},
     "output_type": "execute_result"
    }
   ],
   "source": [
    "americas_flipped"
   ]
  },
  {
   "cell_type": "markdown",
   "id": "2522bac5-46da-4953-911c-c1d7dc52fec3",
   "metadata": {},
   "source": [
    "## Selection of Individual Values\n",
    "\n",
    "Write an expression to find the Per Capita GDP of Chile in 1992."
   ]
  },
  {
   "cell_type": "code",
   "execution_count": 36,
   "id": "07644cb1-7002-4ddf-95ac-bae8822c4b1e",
   "metadata": {},
   "outputs": [
    {
     "data": {
      "text/plain": [
       "7596.125964"
      ]
     },
     "execution_count": 36,
     "metadata": {},
     "output_type": "execute_result"
    }
   ],
   "source": [
    "americas.loc['Chile','gdpPercap_1992']"
   ]
  },
  {
   "cell_type": "markdown",
   "id": "faf470c4-ba79-4dd6-a72d-5804b2d7cb0c",
   "metadata": {},
   "source": [
    "What expression will produce an identical result?"
   ]
  },
  {
   "cell_type": "code",
   "execution_count": 42,
   "id": "b5a2ad56-38d4-47b3-a9e9-3b6faf3c0bab",
   "metadata": {},
   "outputs": [
    {
     "data": {
      "text/plain": [
       "7596.125964"
      ]
     },
     "execution_count": 42,
     "metadata": {},
     "output_type": "execute_result"
    }
   ],
   "source": [
    "americas.iloc[4,9]"
   ]
  },
  {
   "cell_type": "markdown",
   "id": "169ccd62-6670-4c94-95c5-bbfdc6ddf2b8",
   "metadata": {},
   "source": [
    "## Reconstrucing Data\n",
    "\n",
    "Explain what each line in the following short program does: what is in first, second, etc.?"
   ]
  },
  {
   "cell_type": "code",
   "execution_count": 43,
   "id": "5e09f571-6df0-4349-afb1-c348156919e6",
   "metadata": {},
   "outputs": [],
   "source": [
    "first = pd.read_csv('data/gapminder_all.csv', index_col='country')\n",
    "second = first[first['continent'] == 'Americas']\n",
    "third = second.drop('Puerto Rico')\n",
    "fourth = third.drop('continent', axis = 1)\n",
    "fourth.to_csv('result.csv')"
   ]
  },
  {
   "cell_type": "markdown",
   "id": "6a9f50a8-5263-4d38-b2bc-010007784a9d",
   "metadata": {},
   "source": [
    "### first\n",
    "Saves gapminder_all.csv to a dataframe and sets country as column\n",
    "### second\n",
    "Creates a copy of a dataframe only containing the  data of the \n",
    "all of the countries in the Americas\n",
    "### third\n",
    "Removes Puerto Rico data\n",
    "### fourth\n",
    "Removes the label continent from the column\n",
    "### fifth\n",
    "Saves the partial data from fourth to a new csv named result"
   ]
  },
  {
   "cell_type": "markdown",
   "id": "33465cba-f98b-4156-8ea7-11c06a18c387",
   "metadata": {},
   "source": [
    "## Selecting Indices\n",
    "\n",
    "Explain in simple terms what idxmin and idxmax do in the short program below. When would you use these methods?\n",
    "\n",
    "Idxmax gets the index of the biggest value from the axis and Idxmin gets the index of the smallest value form the axis. Someone would use this when they are attempting to get the index from a dataframe containing the word frequency on twitter. If they get the index of the most popular word, they can get the created_at times of the tweets. "
   ]
  },
  {
   "cell_type": "code",
   "execution_count": null,
   "id": "de52a2b3-4af3-4a54-9336-c81e199209c8",
   "metadata": {},
   "outputs": [],
   "source": [
    "data = pd.read_csv('data/gapminder_gdp_europe.csv', index_col='country')\n",
    "print(data.idxmin())\n",
    "print(data.idxmax())"
   ]
  },
  {
   "cell_type": "markdown",
   "id": "8f5d7965-7928-4f41-8a9f-f9c3beb8fd54",
   "metadata": {
    "tags": []
   },
   "source": [
    "## Practice with Selection\n",
    "\n",
    "Using the `data` dataframe above, with GDP data for Europe, write an expression to select:\n",
    "\n",
    "\n",
    "1. GDP per capita for all countries in 1982.\n",
    "2. GDP per capita for Denmark for all years.\n",
    "3. GDP per capita for all countries for years after 1985.\n",
    "4. GDP per capita for each country in 2007 as a multiple of GDP per capita for that country in 1952."
   ]
  },
  {
   "cell_type": "code",
   "execution_count": null,
   "id": "d4537be4-4277-4b4b-a04f-5ac32a161aac",
   "metadata": {},
   "outputs": [],
   "source": [
    "data.gdpPercap_1982"
   ]
  },
  {
   "cell_type": "code",
   "execution_count": null,
   "id": "57d9fd5c-e931-43a9-a024-48df18e180ac",
   "metadata": {},
   "outputs": [],
   "source": [
    "data.loc['Denmark']"
   ]
  },
  {
   "cell_type": "code",
   "execution_count": null,
   "id": "2c1715ab-8dba-4474-b99e-93035154af48",
   "metadata": {},
   "outputs": [],
   "source": [
    "data.loc[:,\"gdpPercap_1985\":]"
   ]
  },
  {
   "cell_type": "code",
   "execution_count": null,
   "id": "aa5cd36b-81fd-4c8f-a320-f30144111f53",
   "metadata": {},
   "outputs": [],
   "source": [
    "data."
   ]
  },
  {
   "cell_type": "markdown",
   "id": "278aad4c-a946-4c4d-8f20-9808b0c0650b",
   "metadata": {},
   "source": [
    "## Import matplotlib's sublibrary pyplot using the standard import statement"
   ]
  },
  {
   "cell_type": "code",
   "execution_count": 45,
   "id": "b2ef5576-378b-42a0-a980-7c5fe87ae603",
   "metadata": {},
   "outputs": [],
   "source": [
    "import matplotlib.pyplot as plot"
   ]
  },
  {
   "cell_type": "markdown",
   "id": "79392258-5541-4d03-b404-71518b22ef1e",
   "metadata": {},
   "source": [
    "## Minima and Maxima\n",
    "\n",
    "Fill in the blanks below to plot the minimum GDP per capita over time for all the countries in Europe. \n",
    "\n",
    "Modify it again to plot the maximum GDP per capita over time for Europe."
   ]
  },
  {
   "cell_type": "code",
   "execution_count": 47,
   "id": "1aecc763-90db-4040-9981-2f67cb59e62e",
   "metadata": {},
   "outputs": [],
   "source": [
    "data_europe = pd.read_csv('data/gapminder_gdp_europe.csv', index_col='country')"
   ]
  },
  {
   "cell_type": "code",
   "execution_count": 52,
   "id": "6239c3be-58ff-461d-b1d2-51b78c436932",
   "metadata": {},
   "outputs": [
    {
     "data": {
      "text/plain": [
       "(array([-2.,  0.,  2.,  4.,  6.,  8., 10., 12.]),\n",
       " [Text(-2.0, 0, 'gdpPercap_2002'),\n",
       "  Text(0.0, 0, 'gdpPercap_1952'),\n",
       "  Text(2.0, 0, 'gdpPercap_1962'),\n",
       "  Text(4.0, 0, 'gdpPercap_1972'),\n",
       "  Text(6.0, 0, 'gdpPercap_1982'),\n",
       "  Text(8.0, 0, 'gdpPercap_1992'),\n",
       "  Text(10.0, 0, 'gdpPercap_2002'),\n",
       "  Text(12.0, 0, '')])"
      ]
     },
     "execution_count": 52,
     "metadata": {},
     "output_type": "execute_result"
    },
    {
     "data": {
      "image/png": "[encoded data removed]",
      "text/plain": [
       "<Figure size 432x288 with 1 Axes>"
      ]
     },
     "metadata": {
      "needs_background": "light"
     },
     "output_type": "display_data"
    }
   ],
   "source": [
    "data_europe.min().plot(label='min')\n",
    "data_europe.max().plot(label='max')\n",
    "plot.legend(loc='best')\n",
    "plot.xticks(rotation=90)"
   ]
  },
  {
   "cell_type": "markdown",
   "id": "288e96f8-847a-46c4-811a-8df8b024c146",
   "metadata": {},
   "source": [
    "## Correlations\n",
    "\n",
    "Finish the code below to create a scatter plot showing the relationship between the minimum and maximum GDP per capita among the countries in Asia for each year in the data set. What relationship do you see (if any)?\n",
    "\n",
    "There is a solid relationship between these 2 on the scatter plot."
   ]
  },
  {
   "cell_type": "code",
   "execution_count": 101,
   "id": "3954c80f-a1e1-4e05-9bd2-6c09f6ee33a4",
   "metadata": {},
   "outputs": [
    {
     "data": {
      "text/html": [
       "<div>\n",
       "<style scoped>\n",
       "    .dataframe tbody tr th:only-of-type {\n",
       "        vertical-align: middle;\n",
       "    }\n",
       "\n",
       "    .dataframe tbody tr th {\n",
       "        vertical-align: top;\n",
       "    }\n",
       "\n",
       "    .dataframe thead th {\n",
       "        text-align: right;\n",
       "    }\n",
       "</style>\n",
       "<table border=\"1\" class=\"dataframe\">\n",
       "  <thead>\n",
       "    <tr style=\"text-align: right;\">\n",
       "      <th></th>\n",
       "      <th>gdpPercap_1952</th>\n",
       "      <th>gdpPercap_1957</th>\n",
       "      <th>gdpPercap_1962</th>\n",
       "      <th>gdpPercap_1967</th>\n",
       "      <th>gdpPercap_1972</th>\n",
       "      <th>gdpPercap_1977</th>\n",
       "      <th>gdpPercap_1982</th>\n",
       "      <th>gdpPercap_1987</th>\n",
       "      <th>gdpPercap_1992</th>\n",
       "      <th>gdpPercap_1997</th>\n",
       "      <th>gdpPercap_2002</th>\n",
       "      <th>gdpPercap_2007</th>\n",
       "    </tr>\n",
       "  </thead>\n",
       "  <tbody>\n",
       "    <tr>\n",
       "      <th>count</th>\n",
       "      <td>33.000000</td>\n",
       "      <td>33.000000</td>\n",
       "      <td>33.000000</td>\n",
       "      <td>33.000000</td>\n",
       "      <td>33.000000</td>\n",
       "      <td>33.000000</td>\n",
       "      <td>33.000000</td>\n",
       "      <td>33.000000</td>\n",
       "      <td>33.000000</td>\n",
       "      <td>33.000000</td>\n",
       "      <td>33.000000</td>\n",
       "      <td>33.000000</td>\n",
       "    </tr>\n",
       "    <tr>\n",
       "      <th>mean</th>\n",
       "      <td>5195.484004</td>\n",
       "      <td>5787.732940</td>\n",
       "      <td>5729.369625</td>\n",
       "      <td>5971.173374</td>\n",
       "      <td>8187.468699</td>\n",
       "      <td>7791.314020</td>\n",
       "      <td>7434.135157</td>\n",
       "      <td>7608.226508</td>\n",
       "      <td>8639.690248</td>\n",
       "      <td>9834.093295</td>\n",
       "      <td>10174.090397</td>\n",
       "      <td>12473.026870</td>\n",
       "    </tr>\n",
       "    <tr>\n",
       "      <th>std</th>\n",
       "      <td>18634.890865</td>\n",
       "      <td>19506.515959</td>\n",
       "      <td>16415.857196</td>\n",
       "      <td>14062.591362</td>\n",
       "      <td>19087.502918</td>\n",
       "      <td>11815.777923</td>\n",
       "      <td>8701.176499</td>\n",
       "      <td>8090.262765</td>\n",
       "      <td>9727.431088</td>\n",
       "      <td>11094.180481</td>\n",
       "      <td>11150.719203</td>\n",
       "      <td>14154.937343</td>\n",
       "    </tr>\n",
       "    <tr>\n",
       "      <th>min</th>\n",
       "      <td>331.000000</td>\n",
       "      <td>350.000000</td>\n",
       "      <td>388.000000</td>\n",
       "      <td>349.000000</td>\n",
       "      <td>357.000000</td>\n",
       "      <td>371.000000</td>\n",
       "      <td>424.000000</td>\n",
       "      <td>385.000000</td>\n",
       "      <td>347.000000</td>\n",
       "      <td>415.000000</td>\n",
       "      <td>611.000000</td>\n",
       "      <td>944.000000</td>\n",
       "    </tr>\n",
       "    <tr>\n",
       "      <th>25%</th>\n",
       "      <td>749.681655</td>\n",
       "      <td>793.577415</td>\n",
       "      <td>825.623201</td>\n",
       "      <td>836.197138</td>\n",
       "      <td>1049.938981</td>\n",
       "      <td>1175.921193</td>\n",
       "      <td>1443.429832</td>\n",
       "      <td>1704.686583</td>\n",
       "      <td>1785.402016</td>\n",
       "      <td>1902.252100</td>\n",
       "      <td>2092.712441</td>\n",
       "      <td>2452.210407</td>\n",
       "    </tr>\n",
       "    <tr>\n",
       "      <th>50%</th>\n",
       "      <td>1206.947913</td>\n",
       "      <td>1547.944844</td>\n",
       "      <td>1649.552153</td>\n",
       "      <td>2029.228142</td>\n",
       "      <td>2571.423014</td>\n",
       "      <td>3195.484582</td>\n",
       "      <td>4106.525293</td>\n",
       "      <td>4106.492315</td>\n",
       "      <td>3726.063507</td>\n",
       "      <td>3645.379572</td>\n",
       "      <td>4090.925331</td>\n",
       "      <td>4471.061906</td>\n",
       "    </tr>\n",
       "    <tr>\n",
       "      <th>75%</th>\n",
       "      <td>3035.326002</td>\n",
       "      <td>3290.257643</td>\n",
       "      <td>4187.329802</td>\n",
       "      <td>5906.731805</td>\n",
       "      <td>8597.756202</td>\n",
       "      <td>11210.089480</td>\n",
       "      <td>12954.791010</td>\n",
       "      <td>11643.572680</td>\n",
       "      <td>15215.657900</td>\n",
       "      <td>19702.055810</td>\n",
       "      <td>19233.988180</td>\n",
       "      <td>22316.192870</td>\n",
       "    </tr>\n",
       "    <tr>\n",
       "      <th>max</th>\n",
       "      <td>108382.352900</td>\n",
       "      <td>113523.132900</td>\n",
       "      <td>95458.111760</td>\n",
       "      <td>80894.883260</td>\n",
       "      <td>109347.867000</td>\n",
       "      <td>59265.477140</td>\n",
       "      <td>33693.175250</td>\n",
       "      <td>28118.429980</td>\n",
       "      <td>34932.919590</td>\n",
       "      <td>40300.619960</td>\n",
       "      <td>36023.105400</td>\n",
       "      <td>47306.989780</td>\n",
       "    </tr>\n",
       "  </tbody>\n",
       "</table>\n",
       "</div>"
      ],
      "text/plain": [
       "       gdpPercap_1952  gdpPercap_1957  gdpPercap_1962  gdpPercap_1967  \\\n",
       "count       33.000000       33.000000       33.000000       33.000000   \n",
       "mean      5195.484004     5787.732940     5729.369625     5971.173374   \n",
       "std      18634.890865    19506.515959    16415.857196    14062.591362   \n",
       "min        331.000000      350.000000      388.000000      349.000000   \n",
       "25%        749.681655      793.577415      825.623201      836.197138   \n",
       "50%       1206.947913     1547.944844     1649.552153     2029.228142   \n",
       "75%       3035.326002     3290.257643     4187.329802     5906.731805   \n",
       "max     108382.352900   113523.132900    95458.111760    80894.883260   \n",
       "\n",
       "       gdpPercap_1972  gdpPercap_1977  gdpPercap_1982  gdpPercap_1987  \\\n",
       "count       33.000000       33.000000       33.000000       33.000000   \n",
       "mean      8187.468699     7791.314020     7434.135157     7608.226508   \n",
       "std      19087.502918    11815.777923     8701.176499     8090.262765   \n",
       "min        357.000000      371.000000      424.000000      385.000000   \n",
       "25%       1049.938981     1175.921193     1443.429832     1704.686583   \n",
       "50%       2571.423014     3195.484582     4106.525293     4106.492315   \n",
       "75%       8597.756202    11210.089480    12954.791010    11643.572680   \n",
       "max     109347.867000    59265.477140    33693.175250    28118.429980   \n",
       "\n",
       "       gdpPercap_1992  gdpPercap_1997  gdpPercap_2002  gdpPercap_2007  \n",
       "count       33.000000       33.000000       33.000000       33.000000  \n",
       "mean      8639.690248     9834.093295    10174.090397    12473.026870  \n",
       "std       9727.431088    11094.180481    11150.719203    14154.937343  \n",
       "min        347.000000      415.000000      611.000000      944.000000  \n",
       "25%       1785.402016     1902.252100     2092.712441     2452.210407  \n",
       "50%       3726.063507     3645.379572     4090.925331     4471.061906  \n",
       "75%      15215.657900    19702.055810    19233.988180    22316.192870  \n",
       "max      34932.919590    40300.619960    36023.105400    47306.989780  "
      ]
     },
     "execution_count": 101,
     "metadata": {},
     "output_type": "execute_result"
    },
    {
     "data": {
      "image/png": "[encoded data removed]",
      "text/plain": [
       "<Figure size 432x288 with 1 Axes>"
      ]
     },
     "metadata": {
      "needs_background": "light"
     },
     "output_type": "display_data"
    }
   ],
   "source": [
    "data_asia = pd.read_csv('data/gapminder_gdp_asia.csv', index_col='country')\n",
    "years = data_asia.columns.str.strip(\"gdpPercap_\")\n",
    "plot.scatter(years,data_asia.min())\n",
    "plot.scatter(years,data_asia.max())\n",
    "data_asia.describe()"
   ]
  },
  {
   "cell_type": "markdown",
   "id": "c1e9b8ca-8f5f-412d-ab14-cf70ba3a1e1a",
   "metadata": {},
   "source": [
    "### relationship of min/max GDP for countries in Asia\n"
   ]
  },
  {
   "cell_type": "markdown",
   "id": "2472f8c2-ebd2-4398-9ac6-4fcc4dd8ea41",
   "metadata": {},
   "source": [
    "You might note that the variability in the maximum is much higher than that of the minimum. Take a look at the maximum and the max indexes:"
   ]
  },
  {
   "cell_type": "code",
   "execution_count": 59,
   "id": "ca8bf65f-8885-4981-932d-f83697b0df2a",
   "metadata": {},
   "outputs": [
    {
     "name": "stdout",
     "output_type": "stream",
     "text": [
      "gdpPercap_1952          Kuwait\n",
      "gdpPercap_1957          Kuwait\n",
      "gdpPercap_1962          Kuwait\n",
      "gdpPercap_1967          Kuwait\n",
      "gdpPercap_1972          Kuwait\n",
      "gdpPercap_1977          Kuwait\n",
      "gdpPercap_1982    Saudi Arabia\n",
      "gdpPercap_1987          Kuwait\n",
      "gdpPercap_1992          Kuwait\n",
      "gdpPercap_1997          Kuwait\n",
      "gdpPercap_2002       Singapore\n",
      "gdpPercap_2007          Kuwait\n",
      "dtype: object\n",
      "gdpPercap_1952    Myanmar\n",
      "gdpPercap_1957    Myanmar\n",
      "gdpPercap_1962    Myanmar\n",
      "gdpPercap_1967    Myanmar\n",
      "gdpPercap_1972    Myanmar\n",
      "gdpPercap_1977    Myanmar\n",
      "gdpPercap_1982    Myanmar\n",
      "gdpPercap_1987    Myanmar\n",
      "gdpPercap_1992    Myanmar\n",
      "gdpPercap_1997    Myanmar\n",
      "gdpPercap_2002    Myanmar\n",
      "gdpPercap_2007    Myanmar\n",
      "dtype: object\n"
     ]
    },
    {
     "data": {
      "image/png": "[encoded data removed]",
      "text/plain": [
       "<Figure size 432x288 with 1 Axes>"
      ]
     },
     "metadata": {
      "needs_background": "light"
     },
     "output_type": "display_data"
    }
   ],
   "source": [
    "data_asia.max().plot()\n",
    "print(data_asia.idxmax())\n",
    "print(data_asia.idxmin())"
   ]
  },
  {
   "cell_type": "markdown",
   "id": "f7d1d377-824e-4969-85ca-86b886142d95",
   "metadata": {},
   "source": [
    "### What are some observations you have of this plot?\n",
    "\n",
    "It has a peak above 100000 then it plumments under 40000 over a 10 year span.\n"
   ]
  },
  {
   "cell_type": "markdown",
   "id": "fc0120c3-29de-4957-afd7-457473ef880a",
   "metadata": {},
   "source": [
    "## Save the plot\n",
    "\n",
    "If you are satisfied with the plot you see you may want to save it to a file, perhaps to include it in a publication. There is a function in the matplotlib.pyplot module that accomplishes this: savefig. Calling this function, e.g. with\n",
    "\n",
    "`plt.savefig('my_figure.png')`\n",
    "\n",
    "will save the current figure to the file my_figure.png. The file format will automatically be deduced from the file name extension (other formats are pdf, ps, eps and svg).\n",
    "\n",
    "Note that functions in plt refer to a global figure variable and after a figure has been displayed to the screen (e.g. with plt.show) matplotlib will make this variable refer to a new empty figure. Therefore, make sure you call plt.savefig before the plot is displayed to the screen, otherwise you may find a file with an empty plot.\n",
    "\n",
    "When using dataframes, data is often generated and plotted to screen in one line, and plt.savefig seems not to be a possible approach. One possibility to save the figure to file is then to \n",
    "- save a reference to the current figure in a local variable (with plt.gcf)\n",
    "- call the savefig class method from that variable.\n",
    "\n",
    "```\n",
    "fig = plt.gcf() # get current figure\n",
    "data.plot(kind='bar')\n",
    "fig.savefig('my_figure.png')\n",
    "```\n",
    "\n",
    "**Go ahead and save the plot produced by `data_asia.max().plot()` to a figure**"
   ]
  },
  {
   "cell_type": "code",
   "execution_count": 112,
   "id": "3bf52ebd-6ff1-42ce-a419-d7bf8203f9bc",
   "metadata": {},
   "outputs": [
    {
     "data": {
      "image/png": "[encoded data removed]",
      "text/plain": [
       "<Figure size 432x288 with 1 Axes>"
      ]
     },
     "metadata": {
      "needs_background": "light"
     },
     "output_type": "display_data"
    },
    {
     "data": {
      "image/png": "[encoded data removed]",
      "text/plain": [
       "<Figure size 432x288 with 1 Axes>"
      ]
     },
     "metadata": {
      "needs_background": "light"
     },
     "output_type": "display_data"
    }
   ],
   "source": [
    "data_asia.max().plot()\n",
    "fig = plot.gcf()\n",
    "data_asia.plot(kind='line')\n",
    "fig.savefig('my_figure.png')"
   ]
  },
  {
   "cell_type": "code",
   "execution_count": null,
   "id": "f706ab78-6c27-4611-aea4-bd02b11cd8bc",
   "metadata": {},
   "outputs": [],
   "source": []
  }
 ],
 "metadata": {
  "kernelspec": {
   "display_name": "Python 3",
   "language": "python",
   "name": "python3"
  },
  "language_info": {
   "codemirror_mode": {
    "name": "ipython",
    "version": 3
   },
   "file_extension": ".py",
   "mimetype": "text/x-python",
   "name": "python",
   "nbconvert_exporter": "python",
   "pygments_lexer": "ipython3",
   "version": "3.8.8"
  }
 },
 "nbformat": 4,
 "nbformat_minor": 5
}
